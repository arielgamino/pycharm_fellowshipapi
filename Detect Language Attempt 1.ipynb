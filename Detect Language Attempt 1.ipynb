{
 "cells": [
  {
   "cell_type": "markdown",
   "metadata": {},
   "source": [
    "## First Attempt on Language Detection\n",
    "\n",
    "This code shows the first attempt on processing the corpora and trying to come up with a model for the europar.test file.\n",
    "\n",
    "To build a model, this uses the most common words used on each language and builds a feature set around them."
   ]
  },
  {
   "cell_type": "code",
   "execution_count": 2,
   "metadata": {
    "collapsed": false
   },
   "outputs": [],
   "source": [
    "from bs4 import BeautifulSoup\n",
    "from nltk.tokenize import sent_tokenize, word_tokenize\n",
    "from nltk.tokenize import RegexpTokenizer\n",
    "from collections import Counter\n",
    "\n",
    "import os\n",
    "import nltk\n",
    "import random\n",
    "import time"
   ]
  },
  {
   "cell_type": "code",
   "execution_count": 3,
   "metadata": {
    "collapsed": false
   },
   "outputs": [],
   "source": [
    "# Use this for keeping track of how much time something takes\n",
    "start = time.time()\n",
    "def start_timer():\n",
    "    start = time.time()"
   ]
  },
  {
   "cell_type": "code",
   "execution_count": 10,
   "metadata": {
    "collapsed": true
   },
   "outputs": [],
   "source": [
    "# When calling this function, elapsed time from start will be printed\n",
    "def print_elapsed_time():\n",
    "    end = time.time()\n",
    "    elapsed = end - start\n",
    "    m, s = divmod(elapsed, 60)\n",
    "    h, m = divmod(m, 60)\n",
    "    print(\"%d:%02d:%02d\" % (h,m,s))"
   ]
  },
  {
   "cell_type": "code",
   "execution_count": 11,
   "metadata": {
    "collapsed": true
   },
   "outputs": [],
   "source": [
    "#Remove any <tags> within text\n",
    "def extract_text_only(text):\n",
    "    soup = BeautifulSoup(text,\"lxml\")\n",
    "    return soup.get_text()"
   ]
  },
  {
   "cell_type": "code",
   "execution_count": 12,
   "metadata": {
    "collapsed": false
   },
   "outputs": [],
   "source": [
    "# Loop through directory and extract text and return \n",
    "# documents:\n",
    "# [(['worda1','worda2,'worda3'],'LANG-A').\n",
    "#  (['wordb1','wordb2,'wordb3'],'LANG-B')]\n",
    "# and a counter with the most frequent words\n",
    "# NOTE: this only reads the first 500 document on directory\n",
    "\n",
    "def get_text_from_directory(directory):\n",
    "    language_label = directory.split(\"/\")[-1]    \n",
    "    documents = []\n",
    "    counter = 0\n",
    "    #keep a count on unique words seen on documents\n",
    "    word_counter = Counter()\n",
    "    for filename in os.listdir(directory):\n",
    "        text_file = open(directory+\"/\"+filename,\"r\").read()\n",
    "        text = extract_text_only(text_file)\n",
    "        #Tokenize words and remove punctuation\n",
    "        tokenizer = RegexpTokenizer(r'\\w+')\n",
    "        tokenized_text = tokenizer.tokenize(text)\n",
    "        ####tokenized_text = word_tokenize(text)\n",
    "        #add to dict counter\n",
    "        word_counter.update(tokenized_text)\n",
    "        documents.append((tokenized_text,language_label))\n",
    "        counter = counter + 1\n",
    "        #read only the first 500 files\n",
    "        if(counter==500):\n",
    "            break\n",
    "    return documents, word_counter"
   ]
  },
  {
   "cell_type": "code",
   "execution_count": null,
   "metadata": {
    "collapsed": false
   },
   "outputs": [],
   "source": [
    "# Loop through all directories containing documents in different \n",
    "# languages. Generate all_documents, and top 40 most common words \n",
    "# on each language to be used for training.\n",
    "#\n",
    "#Assume txt directory is at same level as this notebook\n",
    "# txt/\n",
    "#   ── bg\n",
    "#   ── es\n",
    "#   ── et\n",
    "#   ── fi\n",
    "#   ── fr\n",
    "\n",
    "corpus_directory = \"txt/\"\n",
    "all_documents = []\n",
    "most_common_words = {}\n",
    "\n",
    "start = time.time()\n",
    "#Loop through all directories contain corpora with all languages\n",
    "#directory will be the folder containing documents on that language\n",
    "for directory in os.listdir(corpus_directory):\n",
    "    #full_path contains\n",
    "    full_path = corpus_directory+directory\n",
    "    if(os.path.isdir(full_path)):\n",
    "        print(\"About to process directory \"+directory)\n",
    "        #process directory, text contains documents list with rows (['worda1','worda2,'worda3'],'LANG-A')\n",
    "        #word_counter contains count of all words seen\n",
    "        text, word_counter = get_text_from_directory(full_path)\n",
    "        print(\"Number of words for this language\")\n",
    "        print(len(word_counter))\n",
    "        print(word_counter.most_common(40))\n",
    "        most_common_words[directory] = word_counter.most_common(40)\n",
    "        all_documents = all_documents + text\n",
    "        \n",
    "print(\"Number of documents extrated:\"+str(len(all_documents)))\n",
    "print_elapsed_time()"
   ]
  },
  {
   "cell_type": "code",
   "execution_count": 9,
   "metadata": {
    "collapsed": false
   },
   "outputs": [
    {
     "name": "stdout",
     "output_type": "stream",
     "text": [
      "0:00:00\n"
     ]
    }
   ],
   "source": [
    "# word_features contains the most_commont words\n",
    "# this addss all most_common_words and puts them into word_features\n",
    "\n",
    "start = time.time()\n",
    "#Create word_features, a list of most common words on all languauges\n",
    "#this will be used on feature set fed to classifier\n",
    "word_features = set()\n",
    "for k,v in most_common_words.items():\n",
    "    for word in v:\n",
    "        word_features.add(word[0])\n",
    "print_elapsed_time()"
   ]
  },
  {
   "cell_type": "code",
   "execution_count": 14,
   "metadata": {
    "collapsed": true
   },
   "outputs": [],
   "source": [
    "# Create features based on document\n",
    "# documents contains the tokenized list \n",
    "#  ['worda1','worda2,'worda3',...]\n",
    "# returns a dictionary with indicating if a word_feature is included\n",
    "#  {'door':True,'running':False,...}\n",
    "\n",
    "def document_features(document):\n",
    "    document_words = set(document)\n",
    "    features = {}\n",
    "    for word in word_features:\n",
    "        features['contains({})'.format(word)] = (word in document_words)\n",
    "    return features"
   ]
  },
  {
   "cell_type": "code",
   "execution_count": 15,
   "metadata": {
    "collapsed": false
   },
   "outputs": [],
   "source": [
    "# Create feature set. This will be used to train the model.\n",
    "# it contains the document features and the label (language) to be used\n",
    "# [({'door':True,'running':False,...},'en').\n",
    "#  ({'oficina':False,'corriendo':True,...},'es')]\n",
    "\n",
    "featuresets = [(document_features(d), c) for (d,c) in all_documents]"
   ]
  },
  {
   "cell_type": "code",
   "execution_count": 17,
   "metadata": {
    "collapsed": false
   },
   "outputs": [],
   "source": [
    "# Split into training and test\n",
    "# len(train_set) = 1900\n",
    "# len(test_set) = 100\n",
    "train_set, test_set = featuresets[100:], featuresets[:100]"
   ]
  },
  {
   "cell_type": "code",
   "execution_count": 18,
   "metadata": {
    "collapsed": false
   },
   "outputs": [
    {
     "name": "stdout",
     "output_type": "stream",
     "text": [
      "0:01:02\n"
     ]
    }
   ],
   "source": [
    "# Train the model using nltk.NaiveBayesClassifier\n",
    "\n",
    "start = time.time()\n",
    "classifier = nltk.NaiveBayesClassifier.train(train_set)\n",
    "print_elapsed_time()"
   ]
  },
  {
   "cell_type": "code",
   "execution_count": 19,
   "metadata": {
    "collapsed": false
   },
   "outputs": [
    {
     "name": "stdout",
     "output_type": "stream",
     "text": [
      "0.98\n"
     ]
    }
   ],
   "source": [
    "# Measure accuracy of model with test_set\n",
    "\n",
    "print(nltk.classify.accuracy(classifier, test_set))"
   ]
  },
  {
   "cell_type": "code",
   "execution_count": 20,
   "metadata": {
    "collapsed": false
   },
   "outputs": [
    {
     "name": "stdout",
     "output_type": "stream",
     "text": [
      "Most Informative Features\n",
      "            contains(of) = True               en : ro     =    319.7 : 1.0\n",
      "           contains(och) = True               sv : de     =    309.0 : 1.0\n",
      "            contains(af) = True               da : fi     =    307.7 : 1.0\n",
      "            contains(et) = True               fr : et     =    305.7 : 1.0\n",
      "         contains(della) = True               it : fr     =    304.3 : 1.0\n",
      "             contains(y) = True               es : ro     =    304.3 : 1.0\n",
      "           contains(und) = True               de : fi     =    303.7 : 1.0\n",
      "            contains(og) = True               da : fi     =    303.7 : 1.0\n",
      "           contains(het) = True               nl : da     =    303.7 : 1.0\n",
      "            contains(le) = True               fr : pl     =    302.3 : 1.0\n"
     ]
    }
   ],
   "source": [
    "# Show most informative features\n",
    "classifier.show_most_informative_features(10)"
   ]
  },
  {
   "cell_type": "code",
   "execution_count": 21,
   "metadata": {
    "collapsed": true
   },
   "outputs": [],
   "source": [
    "#Test\n",
    "#sample french document\n",
    "fr_document = \"\"\"\n",
    "Madame la Présidente, il s' agit d' une question sensible pour notre Parlement, et plus précisément relative au débat sur l' élargissement. Je veux parler d' une déclaration du ministère turc des Affaires étrangères au sujet du rapport de M. Poos sur l' adhésion de Chypre à l' Union européenne. Dans cette déclaration, le ministère turc des Affaires étrangères porte une attaque inique et diffamatoire contre un député qui a présenté son rapport à la commission compétente. La commission a adopté ce rapport avec une opposition de deux voix seulement. Je crois comprendre que le système parlementaire n' a pas encore atteint en Turquie un niveau de développement tel que ses membres puissent saisir le contenu du rapport concerné et la responsabilité, si tant est que l' on puisse utiliser ce terme, qu' assume M. Poos. Il s' agit d' un rapport du Parlement. En conséquence, je souhaiterais que le Parlement lui-même apporte une réaction à cette attaque injuste.\n",
    "\n",
    "Madame la Présidente, permettez-moi de citer un seul exemple de mauvais goût en lisant le point 1 de la déclaration turque :\n",
    "\"le député est connu, d'une part, pour son opposition à la Turquie et, d'autre part, pour ses liens privés avec l'administration chypriote.\"\n",
    "C' est une pure calomnie, à la limite d' un délit. Je voudrais que le Parlement, ainsi que la Commission, et non M. Poos, adoptent une réaction à cette accusation lancée par la Turquie !\n",
    "Je vous remercie, Madame la Présidente !\n",
    "(Applaudissements)\n",
    "\n",
    "Je vous remercie. Nous allons regarder cela de très près.\n",
    "Il n'y a pas d'autre motion d'ordre.\n",
    "Je dirai simplement à M. Helmer que les fonctionnaires sont actuellement occupés à remettre le drapeau britannique à sa place ; il y avait, en effet, ce matin un problème de drapeau britannique que nous avons tenu à résoudre sans attendre.\n",
    "\n",
    "Situation au Moyen-Orient\n",
    "L'ordre du jour appelle la déclaration du Conseil et de la Commission sur la situation au Moyen-Orient.\n",
    "\n",
    "Madame la Présidente, Monsieur le Commissaire, Mesdames et Messieurs, tout d'abord veuillez excuser mon petit retard, mais je viens en droite ligne de Bruxelles. J'espère que vous voudrez bien le comprendre et je vous en remercie.\n",
    "Mesdames et Messieurs, comme le ministre Louis Michel l'avait déjà indiqué lors de sa comparution, le 28 août dernier, devant la commission des affaires étrangères, des droits de l'homme, de la sécurité commune et de la politique de défense de ce Parlement, on assiste depuis des mois au Proche-Orient à une escalade croissante de la violence, avec pour résultat consternant l'effondrement total de la confiance mutuelle entre les parties et, sur le terrain, cela a créé un profond sentiment d'impuissance parmi toutes les populations concernées.\n",
    "Il ne se passe hélas pas un jour ou à peu près sans que des incidents sanglants et de nouvelles provocations ne se produisent et ne reportent ainsi indéfiniment la matérialisation d'un cessez-le-feu et la fin d'un cycle infernal de représailles, tandis que la liste des victimes ne fait que s'allonger. Cette situation, récemment qualifiée par le ministre Vedrine de monstrueuse et révoltante, suscite bien entendu une profonde inquiétude pour la stabilité d'une région qui est à nos portes. La communauté internationale ne saurait tolérer plus longtemps cette escalade et se doit de condamner avec fermeté les facteurs d'aggravation que constituent notamment le terrorisme et les attentats suicide perpétrés par des Palestiniens en Israël. Outre que ces actes terroristes constituent une abomination, car ils frappent des civils innocents, ils ne font qu'inciter Israël à pratiquer une politique de plus en plus répressive.\n",
    "Les tirs d'activistes palestiniens contre des Israéliens, qu'ils soient colons ou militaires, à partir d'agglomérations sous contrôle palestinien, mais aussi le recours excessif et disproportionné à la force par Israël ne font qu'alimenter le cycle de la violence. L'usage d'avions de combat dans les zones résidentielles, la destruction systématique par des missiles de bâtiments abritant les services de police et de sécurité de l'autorité palestinienne et les meurtres ciblés d'activistes palestiniens ne constituent pas des éléments convaincants d'une stratégie visant à la paix et à la sécurité. Les incursions militaires israéliennes dans les zones passées sous contrôle palestinien sont autant de violations des accords signés. La fermeture des institutions palestiniennes à Jérusalem-Est, et notamment celle de la Maison Orient, et la saisie des archives sont des mesures politiques peu propices à l'apaisement.\n",
    "Madame la Présidente, Mesdames et Messieurs, lorsque nous observons aujourd' hui les perspectives d' une reprise du dialogue direct, où en sommes-nous ? Pour commencer, c' est dans un contexte très inquiétant de radicalisation des différentes parties impliquées dans le conflit que le ministre israélien des Affaires étrangères, M. Shimon Peres, a récemment proposé, en public, la reprise d' un dialogue direct avec l' Autorité palestinienne en vue de réduire la violence et de veiller à ce que le cessez-le-feu soit respecté, deux objectifs qui semblaient inaccessibles jusqu' ici. Au cours d' une récente visite dans la région, le ministre allemand des Affaires étrangères, M. Joschka Fischer, a obtenu que le dirigeant palestinien accepte une telle rencontre entre M. Arafat, donc, d' un côté et M. Shimon Peres de l' autre.\n",
    "\"\"\""
   ]
  },
  {
   "cell_type": "code",
   "execution_count": 22,
   "metadata": {
    "collapsed": false
   },
   "outputs": [],
   "source": [
    "#Tokenize words and remove punctuation\n",
    "tokenizer = RegexpTokenizer(r'\\w+')\n",
    "tokenized_text = tokenizer.tokenize(fr_document)"
   ]
  },
  {
   "cell_type": "code",
   "execution_count": 23,
   "metadata": {
    "collapsed": false
   },
   "outputs": [
    {
     "data": {
      "text/plain": [
       "'fr'"
      ]
     },
     "execution_count": 23,
     "metadata": {},
     "output_type": "execute_result"
    }
   ],
   "source": [
    "classifier.classify(document_features(tokenized_text))"
   ]
  },
  {
   "cell_type": "code",
   "execution_count": 24,
   "metadata": {
    "collapsed": true
   },
   "outputs": [],
   "source": [
    "#sample spanish document\n",
    "es_document = \"\"\"\n",
    "Nombramiento del Presidente del Banco Central Europeo\n",
    " De conformidad con el orden del día, se procede al debate de la recomendación (A5-0307/2003), en nombre de la Comisión de Asuntos Económicos y Monetarios, relativa al nombramiento del Sr. Jean-Claude Trichet como Presidente del Banco Central Europeo (10893/2003 - C5-0332/2003 - 2003/0819(CNS)) (Ponente: Sra. Randzio-Plath)\n",
    ". (IT) Señor Presidente, Señorías, señores Comisarios, es un gran placer hablar sobre una cuestión de gran importancia para la Unión Europea: el nombramiento del Presidente del Banco Central Europeo.\n",
    "La creación del euro es un éxito considerable en la historia de la integración europea, tanto desde el punto de vista político como técnico. El euro sigue siendo una divisa relativamente nueva, y tendrá que basarse en la experiencia, ampliamente reconocida, del Banco Central Europeo para continuar siendo un éxito.\n",
    "En este momento estamos sustituyendo por primera vez al Presidente del Banco Central Europeo. Es de vital importancia para el Banco Central Europeo y para el euro que la elección de un sucesor del Presidente Duisenberg se lleve a cabo con transparencia y que se base únicamente en los criterios recogidos en el Tratado que establece la Comunidad Europea, así como en el Estatuto del Sistema Europeo de Bancos Centrales y el del Banco Central Europeo, y en el acuerdo de este último sobre el candidato más cualificado para el trabajo.\n",
    "Al nombrar a un sucesor, hemos de reconocer y rendir tributo al excelente trabajo realizado por el Presidente Duisenberg, pero también debemos expresar nuestra confianza en que el Banco Central Europeo seguirá desarrollando todas sus funciones con el mismo grado de éxito que hasta la fecha.\n",
    "La base legal para el procedimiento de nombramiento de un nuevo Presidente del Banco Central Europeo se encuentra en la letra b del apartado 2 del artículo 112, y en apartado 4 del artículo 122, del Tratado que establece la Comunidad Europea, así como en los artículos 11.2 y 43.3 del Protocolo del Estatuto del Sistema Europeo de Bancos Centrales y del Banco Central Europeo.\n",
    "De acuerdo con estas disposiciones, el Consejo de «Información» Ecofin adoptó una recomendación el 15 de julio de 2003 que defendía el nombramiento del Sr. Trichet como Presidente del Banco Central Europeo por un periodo de ocho años con efecto a partir del 1 de noviembre de 2003. La recomendación fue enviada tanto a ustedes como al Banco Central Europeo, de acuerdo con el Tratado, para que pudieran dar su opinión antes de que la recomendación fuera presentada a los Jefes de Estado o de Gobierno para la decisión final.\n",
    "El Consejo de Gobierno del Banco Central Europeo aprobó su opinión el 31 de julio y la envió al Consejo y al Parlamento. Esta opinión confirmó que el Consejo Regulador del Banco Central Europeo cree que el candidato propuesto deber ser una persona de reconocido prestigio y experiencia profesional en materia monetaria y bancaria, como establece la letra b del apartado 2 del artículo 112 del Tratado.\n",
    "Espero que el Parlamento Europeo esté de acuerdo con el Consejo y con el Banco Central Europeo en que el Sr. Trichet es un candidato excelente para este importante puesto. La adopción de la opinión por parte del Parlamento permitirá que los Jefes de Estado o de Gobierno tomen una decisión final sobre la toma de posesión del nuevo Presidente del Banco Central Europeo, dentro del calendario fijado por la recomendación del Consejo.\n",
    "\n",
    "Señor Presidente, en nombre de la Comisión de Asuntos Económicos y Monetarios, recomiendo que el Parlamento confirme el nombramiento del Sr. Jean-Claude Trichet como candidato adecuado para el puesto de Presidente del Banco Central Europeo. El candidato nominado ha presentado una declaración por escrito y ha dado explicaciones orales a dicha comisión en el curso del proceso de confirmación. Ha convencido a los miembros de dicha comisión no solo de su integridad personal y competencia profesional, sino también de sus visión de la política económica y monetaria en la Eurozona. Al mismo tiempo, ha demostrado ser receptivo a las exigencias de una mayor transparencia y responsabilidad democrática en el seno del Banco Central Europeo.\n",
    "Cinco años después de su fundación, el Banco Central Europeo ya es mayor de edad. Su independencia -en términos políticos, económicos, financieros, organizativos y de personal- está garantizada y no está cuestionada por el Tratado que establece la Constitución para Europa. Su alto grado de independencia, que supera al de la Reserva Federal de los Estados Unidos, significa que el BCE tiene una gran responsabilidad en el desarrollo macroeconómico y social. Ello requiere la mayor transparencia posible en interés de la democracia y de la política de integración. Por ello, la transparencia de las decisiones y del procedimiento de toma de decisiones es parte integral del papel del Banco Central Europeo. Este esfuerzo para lograr la transparencia se refleja en el diálogo monetario trimestral con el Parlamento Europeo, en las publicaciones y decisiones ordinarias, pero también en los informes, las conferencias y las previsiones sobre la inflación que se publican cada seis meses. Así pues, en Europa ha tenido lugar una especie de revolución cultural. La cultura de los bancos centrales nacionales en Europa no contaba con este tipo de transparencia. Por cierto, la transparencia también va en interés del BCE porque es todavía una institución nueva, y por lo tanto, se basa especialmente en el establecimiento y la consolidación de su legitimidad, la credibilidad y confianza como autoridad europea.\n",
    "En última instancia, el sistema monetario de una nación refleja todo lo que defiende esa nación y todo a lo que aspira y mantiene, si se me permite citar al renombrado economista europeo Josef Schumpeter. Creo que en la fase actual del debate, la incorporación del Tratado de Maastricht en su totalidad en el borrador del Tratado que establece la Constitución para Europa era el paso más adecuado. A lo largo de los siglos de su existencia, el papel de los bancos centrales ha sufrido un cambio radical, comenzando por su forma de organización privada en la historia, pasando por su cambio de estatus en los Estados Unidos, el concepto de lucha contra la inflación, hasta llegar a su papel de banco emisor independiente. Quizás sea demasiado pronto para encontrar respuesta a los retos actuales. La tarea que debemos emprender es definir el papel del Banco Central en un mundo globalizado dominado por el comercio y los mercados financieros internacionales. Ello implica mercados dinámicos, pero también riesgos cada vez mayores para la estabilidad financiera internacional.\n",
    "¿Qué papel pueden y deben desempeñar, pues, los bancos centrales para contribuir a la estabilidad financiera, evitar las crisis financieras y proporcionar asistencia? ¿Está preparado el BCE para el papel de prestamista en última instancia? ¿Es esto lo que queremos? El euro también ha mejorado la posición internacional de Europa. El BCE tendrá que desempeñar un papel cada vez mayor en la definición y aplicación de las políticas apropiadas para una economía globalizada. Estamos preocupados por el gran desequilibrio de la economía estadounidense y los riesgos que pudiera entrañar para cualquier otra parte del mundo a medio plazo.\n",
    "\"\"\""
   ]
  },
  {
   "cell_type": "code",
   "execution_count": 25,
   "metadata": {
    "collapsed": true
   },
   "outputs": [],
   "source": [
    "#Tokenize words and remove punctuation\n",
    "tokenizer = RegexpTokenizer(r'\\w+')\n",
    "tokenized_text = tokenizer.tokenize(es_document)"
   ]
  },
  {
   "cell_type": "code",
   "execution_count": 26,
   "metadata": {
    "collapsed": false
   },
   "outputs": [
    {
     "data": {
      "text/plain": [
       "'es'"
      ]
     },
     "execution_count": 26,
     "metadata": {},
     "output_type": "execute_result"
    }
   ],
   "source": [
    "classifier.classify(document_features(tokenized_text))"
   ]
  },
  {
   "cell_type": "code",
   "execution_count": 27,
   "metadata": {
    "collapsed": true
   },
   "outputs": [],
   "source": [
    "# Based on a tokenized document, classify it.\n",
    "def classify_document(document):\n",
    "    #Tokenize words and remove punctuation\n",
    "    tokenizer = RegexpTokenizer(r'\\w+')\n",
    "    tokenized_text = tokenizer.tokenize(document)\n",
    "    return classifier.classify(document_features(tokenized_text))"
   ]
  },
  {
   "cell_type": "code",
   "execution_count": 28,
   "metadata": {
    "collapsed": false
   },
   "outputs": [
    {
     "name": "stdout",
     "output_type": "stream",
     "text": [
      "es\n"
     ]
    }
   ],
   "source": [
    "print(classify_document(es_document))"
   ]
  },
  {
   "cell_type": "code",
   "execution_count": 34,
   "metadata": {
    "collapsed": false
   },
   "outputs": [
    {
     "name": "stdout",
     "output_type": "stream",
     "text": [
      "  Classified correctly: 8183\n",
      "Classified incorrectly: 12817\n",
      "              Accuracy: %s 38.96666666666667\n",
      "0:17:09\n"
     ]
    }
   ],
   "source": [
    "# Read europar.test file and classify each sentence in file\n",
    "\n",
    "positive_ctr = 0\n",
    "negative_ctr = 0\n",
    "total_ctr    = 0 \n",
    "#save results to file for processing\n",
    "fileout = open('europarl_test_classified.csv','w')\n",
    "fileout.write('predicted, language given, correctly classified?\\n')\n",
    "#initialize timer to see how long it takes\n",
    "start = time.time()\n",
    "with open('europarl.test','r') as f:\n",
    "    for line in f:\n",
    "        total_ctr += 1\n",
    "        #language is first two letters in line    \n",
    "        language = line[:2]\n",
    "        #sentence is rest, clean up spaces\n",
    "        sentence = line[2:].strip()\n",
    "        #Detect language based on model\n",
    "        language_detected = classify_document(sentence)\n",
    "        correctly_classified = language_detected==language\n",
    "        #tally correct and incorrect\n",
    "        if(correctly_classified):\n",
    "            #correctly classified\n",
    "            positive_ctr += 1\n",
    "        else:\n",
    "            #incorrectly classified\n",
    "            negative_ctr += 1\n",
    "            \n",
    "        fileout.write(classify_document(sentence)+','+language+','+str(correctly_classified)+'\\n')\n",
    "        \n",
    "print(\"  Classified correctly: \"+str(positive_ctr))\n",
    "print(\"Classified incorrectly: \"+str(negative_ctr))\n",
    "accuracy = (positive_ctr/total_ctr) * 100\n",
    "print(\"              Accuracy: %s\",accuracy)\n",
    "\n",
    "print_elapsed_time()        \n",
    "fileout.close()"
   ]
  }
 ],
 "metadata": {
  "kernelspec": {
   "display_name": "Python 3",
   "language": "python",
   "name": "python3"
  },
  "language_info": {
   "codemirror_mode": {
    "name": "ipython",
    "version": 3
   },
   "file_extension": ".py",
   "mimetype": "text/x-python",
   "name": "python",
   "nbconvert_exporter": "python",
   "pygments_lexer": "ipython3",
   "version": "3.6.1"
  }
 },
 "nbformat": 4,
 "nbformat_minor": 0
}
